{
 "cells": [
  {
   "cell_type": "markdown",
   "metadata": {},
   "source": [
    "# Simplex method\n",
    "\n",
    "### Implemented\n",
    "- Basic Simplex algorithm\n",
    "- Automatic standard form conversion\n",
    "    - Missing positivity constraints on x are added by splitting into $x^+$ and $x^-$\n",
    "    - Slack variables are added to replace inequality constraints with equality constraints\n",
    "- Starting the simplex method"
   ]
  },
  {
   "cell_type": "markdown",
   "metadata": {},
   "source": [
    "<i>Group 08<br>\n",
    "Participants information in alphabetical order</i>\n",
    "<table style=\"width:100%\">\n",
    "  <\n",
    "    <th style = \"text-align: left\">#</th>\n",
    "    <th style = \"text-align: left\">Name</th>\n",
    "    <th style = \"text-align: left\">Lastname</th>\n",
    "    <th style = \"text-align: left\">Matr Number</th>\n",
    "  </tr>\n",
    "  <tr>\n",
    "    <td style = \"text-align: left\">1</td>\n",
    "    <td style = \"text-align: left\">Alexander</td>\n",
    "    <td style = \"text-align: left\">Temper</td>\n",
    "    <td style = \"text-align: left\">K11905007</td>\n",
    "  </tr>\n",
    "  <tr>\n",
    "    <td style = \"text-align: left\">2</td>\n",
    "    <td style = \"text-align: left\">Bernhard Michael</td>\n",
    "    <td style = \"text-align: left\">Voggenberger</td>\n",
    "    <td style = \"text-align: left\">K11907093</td>\n",
    "  </tr>\n",
    "  <tr>\n",
    "    <td style = \"text-align: left\">3</td>\n",
    "    <td style = \"text-align: left\">Christian</td>\n",
    "    <td style = \"text-align: left\">Ganhör</td>\n",
    "    <td style = \"text-align: left\">K11911652</td>\n",
    "  </tr>\n",
    "  <tr>\n",
    "    <td style = \"text-align: left\">4</td>\n",
    "    <td style = \"text-align: left\">Christoph</td>\n",
    "    <td style = \"text-align: left\">Koller</td>\n",
    "    <td style = \"text-align: left\">K11910272</td>\n",
    "    </tr>\n",
    "  <tr>\n",
    "    <td style = \"text-align: left\">5</td>\n",
    "    <td style = \"text-align: left\">Franziska</td>\n",
    "    <td style = \"text-align: left\">Denk</td>\n",
    "    <td style = \"text-align: left\">K11904292</td>\n",
    "  </tr>\n",
    "  <tr>\n",
    "    <td style = \"text-align: left\">6</td>\n",
    "    <td style = \"text-align: left\">Lukas</td>\n",
    "    <td style = \"text-align: left\">Gattermayr</td>\n",
    "    <td style = \"text-align: left\">K11911639</td>\n",
    "  </tr>\n",
    "  <tr>\n",
    "    <td style = \"text-align: left\">7</td>\n",
    "    <td style = \"text-align: left\">Nathanael</td>\n",
    "    <td style = \"text-align: left\">Harmetzky</td>\n",
    "    <td style = \"text-align: left\">K11916566</td>\n",
    "  </tr>\n",
    "  <tr>\n",
    "    <td style = \"text-align: left\">8</td>\n",
    "    <td style = \"text-align: left\">Raphael-Pascal</td>\n",
    "    <td style = \"text-align: left\">Endstrasser</td>\n",
    "    <td style = \"text-align: left\">K11907909</td>\n",
    "  </tr>\n",
    "  <tr>\n",
    "    <td style = \"text-align: left\">9</td>\n",
    "    <td style = \"text-align: left\">Tobias</td>\n",
    "    <td style = \"text-align: left\">Stierberger</td>\n",
    "    <td style = \"text-align: left\">K11907869</td>\n",
    "  </tr>\n",
    "  <tr>\n",
    "    <td style = \"text-align: left\">10</td>\n",
    "    <td style = \"text-align: left\">***</td>\n",
    "    <td style = \"text-align: left\">***</td>\n",
    "    <td style = \"text-align: left\">***</td>\n",
    "  </tr>\n",
    "</table>\n"
   ]
  },
  {
   "cell_type": "code",
   "execution_count": 1,
   "metadata": {},
   "outputs": [],
   "source": [
    "import numpy as np\n",
    "import scipy \n",
    "import pandas as pd\n",
    "from matplotlib import pyplot as plt\n",
    "import seaborn as sns\n",
    "from typing import Callable, Tuple\n",
    "from dataclasses import dataclass"
   ]
  },
  {
   "cell_type": "code",
   "execution_count": 2,
   "metadata": {},
   "outputs": [],
   "source": [
    "# As we are using additional .py files, enable their reloading without restarting the kernel\n",
    "%load_ext autoreload\n",
    "%autoreload 2\n",
    "\n",
    "from shared.printout import final_printout\n",
    "from simplex.base import minimize_linear_problem\n",
    "from simplex.problems import create_example_13_1_problem, create_another_example_1, create_another_example_2"
   ]
  },
  {
   "cell_type": "markdown",
   "metadata": {},
   "source": [
    "# Problem 1\n",
    "Taken from the book (example 13.1).\n",
    "\n",
    "\\begin{align*}\n",
    "\\min -4x_1 - 2x_2 &\\text{ subject to} \\\\\n",
    "x_1 + x_2 + x_3 &= 5 \\\\\n",
    "2x_1 + \\frac12x_2 + x_4 &= 8 \\\\\n",
    "x &\\geq 0\n",
    "\\end{align*}"
   ]
  },
  {
   "cell_type": "code",
   "execution_count": 3,
   "metadata": {},
   "outputs": [
    {
     "output_type": "stream",
     "name": "stdout",
     "text": [
      "Initial x is :\t\t[0. 0. 5. 8.]\nOptimal x is :\t\t[3.66666667 1.33333333 0.         0.        ]\nApproximated x is :\t[3.66666667 1.33333333 0.         0.        ]\nIs close verification: \t[ True  True  True  True]\n\nFunction value in optimal point:\t-17.333333333333332\nFunction value in approximated point:   -17.333333333333332\nIs close verification:\tTrue\n\nGradient approximation in optimal point is:\n[-4. -2.  0.  0.]\n\nGradient approximation in approximated point is:\n[-4. -2.  0.  0.]\n\nIs close verification:\n[ True  True  True  True]\n\nNumber of iterations required: 3\n"
     ]
    }
   ],
   "source": [
    "problem = create_example_13_1_problem()\n",
    "x_minimizer, iter_count = minimize_linear_problem(problem)\n",
    "\n",
    "final_printout(problem.x0, problem.solution, x_minimizer, iter_count, problem.f, problem.calc_gradient_at)"
   ]
  },
  {
   "source": [
    "# Problem 2\n",
    "Taken from https://realpython.com/linear-programming-python/ (example 1).\n",
    "\n",
    "\\begin{align*}\n",
    "\\min -x_1 - 2x_2 &\\text{ subject to} \\\\\n",
    "2x_1 + x_2 &\\leq 20 \\\\\n",
    "-4x_1  5x_2 &\\leq 10 \\\\\n",
    "x_1 - 2x_2 &\\leq 2 \\\\\n",
    "-2x_1 + 5x_2 &\\= 15 \\\\\n",
    "x &\\geq 0\n",
    "\\end{align*}"
   ],
   "cell_type": "markdown",
   "metadata": {}
  },
  {
   "cell_type": "code",
   "execution_count": 4,
   "metadata": {},
   "outputs": [
    {
     "output_type": "stream",
     "name": "stdout",
     "text": [
      "Initial x is :\t\tNone\nOptimal x is :\t\t[7.72727273 4.54545455]\nApproximated x is :\t[7.72727273 4.54545455]\nIs close verification: \t[ True  True]\n\nFunction value in optimal point:\t-16.81818181818182\nFunction value in approximated point:   -16.818181818181817\nIs close verification:\tTrue\n\nGradient approximation in optimal point is:\n[-1. -2.]\n\nGradient approximation in approximated point is:\n[-1. -2.]\n\nIs close verification:\n[ True  True]\n\nNumber of iterations required: 2\n"
     ]
    }
   ],
   "source": [
    "problem = create_another_example_1()\n",
    "standard_problem = problem.to_standard_form()\n",
    "standard_x_minimizer, iter_count = minimize_linear_problem(standard_problem)\n",
    "x_minimizer = standard_x_minimizer[:problem.n]\n",
    "\n",
    "final_printout(problem.x0, problem.solution, x_minimizer, iter_count, problem.f, problem.calc_gradient_at)"
   ]
  },
  {
   "source": [
    "# Problem 3\n",
    "Taken from https://realpython.com/linear-programming-python/ (example 2).\n",
    "\n",
    "\\begin{align*}\n",
    "\\min -20x_1 - 12x_2 - 40x_3 + 25x_4 &\\text{ subject to} \\\\\n",
    "x_1 + x_2 + x_3 + x_4 &\\leq 50 \\\\\n",
    "3x_1 + 2x_2 + x_3 &\\leq 100 \\\\\n",
    "x_2 + 2x_3 + 3x_4 &\\leq 90 \\\\\n",
    "x &\\geq 0\n",
    "\\end{align*}"
   ],
   "cell_type": "markdown",
   "metadata": {}
  },
  {
   "cell_type": "code",
   "execution_count": 5,
   "metadata": {},
   "outputs": [
    {
     "output_type": "stream",
     "name": "stdout",
     "text": [
      "Initial x is :\t\tNone\nOptimal x is :\t\t[ 5.  0. 45.  0.]\nApproximated x is :\t[ 5.  0. 45.  0.]\nIs close verification: \t[ True  True  True  True]\n\nFunction value in optimal point:\t-1900.0\nFunction value in approximated point:   -1900.0\nIs close verification:\tTrue\n\nGradient approximation in optimal point is:\n[-20. -12. -40. -25.]\n\nGradient approximation in approximated point is:\n[-20. -12. -40. -25.]\n\nIs close verification:\n[ True  True  True  True]\n\nNumber of iterations required: 2\n"
     ]
    }
   ],
   "source": [
    "problem = create_another_example_2()\n",
    "standard_problem = problem.to_standard_form()\n",
    "standard_x_minimizer, iter_count = minimize_linear_problem(standard_problem)\n",
    "x_minimizer = standard_x_minimizer[:problem.n]\n",
    "\n",
    "final_printout(problem.x0, problem.solution, x_minimizer, iter_count, problem.f, problem.calc_gradient_at)"
   ]
  }
 ],
 "metadata": {
  "interpreter": {
   "hash": "1966315138f400f62dc1fff91c72ed91dd6df0f36082b426fd0f91ceb8258b5f"
  },
  "kernelspec": {
   "name": "python3",
   "display_name": "Python 3.9.4 64-bit"
  },
  "language_info": {
   "codemirror_mode": {
    "name": "ipython",
    "version": 3
   },
   "file_extension": ".py",
   "mimetype": "text/x-python",
   "name": "python",
   "nbconvert_exporter": "python",
   "pygments_lexer": "ipython3",
   "version": "3.9.4"
  }
 },
 "nbformat": 4,
 "nbformat_minor": 4
}