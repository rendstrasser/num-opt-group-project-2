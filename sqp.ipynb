{
 "cells": [
  {
   "cell_type": "markdown",
   "metadata": {},
   "source": [
    "# SQP method\n",
    "\n",
    "### Implemented\n",
    "- Basic SQP method (18.3) with KKT-conditions as stopping criterion\n",
    "- Quasi-newton approximation (by default SR1, but damped BFGS is also implemented and works for convex problems!)\n",
    "- Automatic standard form conversion (less-than inequalities to greater-than inequalities)\n",
    "- Auto-generation of derivatives (gradients, hessians)\n",
    "- Warm-start procedure in the sense that we use the previous p as an initial guess\n",
    "for a starting point x0 in the new quadratic problem, essentially utilizing the advanced phase I approach for QP,\n",
    "where we can input a guess for x0. (How could we just directly use the previous working set, when the problem changes?)"
   ]
  },
  {
   "cell_type": "markdown",
   "metadata": {},
   "source": [
    "<i>Group 08<br>\n",
    "Participants information in alphabetical order</i>\n",
    "<table style=\"width:100%\">\n",
    "  <\n",
    "    <th style = \"text-align: left\">#</th>\n",
    "    <th style = \"text-align: left\">Name</th>\n",
    "    <th style = \"text-align: left\">Lastname</th>\n",
    "    <th style = \"text-align: left\">Matr Number</th>\n",
    "  </tr>\n",
    "  <tr>\n",
    "    <td style = \"text-align: left\">1</td>\n",
    "    <td style = \"text-align: left\">Alexander</td>\n",
    "    <td style = \"text-align: left\">Temper</td>\n",
    "    <td style = \"text-align: left\">K11905007</td>\n",
    "  </tr>\n",
    "  <tr>\n",
    "    <td style = \"text-align: left\">2</td>\n",
    "    <td style = \"text-align: left\">Bernhard Michael</td>\n",
    "    <td style = \"text-align: left\">Voggenberger</td>\n",
    "    <td style = \"text-align: left\">K11907093</td>\n",
    "  </tr>\n",
    "  <tr>\n",
    "    <td style = \"text-align: left\">3</td>\n",
    "    <td style = \"text-align: left\">Christian</td>\n",
    "    <td style = \"text-align: left\">Ganhör</td>\n",
    "    <td style = \"text-align: left\">K11911652</td>\n",
    "  </tr>\n",
    "  <tr>\n",
    "    <td style = \"text-align: left\">4</td>\n",
    "    <td style = \"text-align: left\">Christoph</td>\n",
    "    <td style = \"text-align: left\">Koller</td>\n",
    "    <td style = \"text-align: left\">K11910272</td>\n",
    "    </tr>\n",
    "  <tr>\n",
    "    <td style = \"text-align: left\">5</td>\n",
    "    <td style = \"text-align: left\">Franziska</td>\n",
    "    <td style = \"text-align: left\">Denk</td>\n",
    "    <td style = \"text-align: left\">K11904292</td>\n",
    "  </tr>\n",
    "  <tr>\n",
    "    <td style = \"text-align: left\">6</td>\n",
    "    <td style = \"text-align: left\">Lukas</td>\n",
    "    <td style = \"text-align: left\">Gattermayr</td>\n",
    "    <td style = \"text-align: left\">K11911639</td>\n",
    "  </tr>\n",
    "  <tr>\n",
    "    <td style = \"text-align: left\">7</td>\n",
    "    <td style = \"text-align: left\">Nathanael</td>\n",
    "    <td style = \"text-align: left\">Harmetzky</td>\n",
    "    <td style = \"text-align: left\">K11916566</td>\n",
    "  </tr>\n",
    "  <tr>\n",
    "    <td style = \"text-align: left\">8</td>\n",
    "    <td style = \"text-align: left\">Raphael-Pascal</td>\n",
    "    <td style = \"text-align: left\">Endstrasser</td>\n",
    "    <td style = \"text-align: left\">K11907909</td>\n",
    "  </tr>\n",
    "  <tr>\n",
    "    <td style = \"text-align: left\">9</td>\n",
    "    <td style = \"text-align: left\">Tobias</td>\n",
    "    <td style = \"text-align: left\">Stierberger</td>\n",
    "    <td style = \"text-align: left\">K11907869</td>\n",
    "  </tr>\n",
    "  <tr>\n",
    "    <td style = \"text-align: left\">10</td>\n",
    "    <td style = \"text-align: left\">***</td>\n",
    "    <td style = \"text-align: left\">***</td>\n",
    "    <td style = \"text-align: left\">***</td>\n",
    "  </tr>\n",
    "</table>\n"
   ]
  },
  {
   "cell_type": "code",
   "execution_count": 1,
   "metadata": {},
   "outputs": [],
   "source": [
    "import numpy as np\n",
    "import scipy \n",
    "import pandas as pd\n",
    "from matplotlib import pyplot as plt\n",
    "import seaborn as sns\n",
    "from typing import Callable, Tuple\n",
    "from dataclasses import dataclass"
   ]
  },
  {
   "cell_type": "code",
   "execution_count": 2,
   "metadata": {},
   "outputs": [],
   "source": [
    "# As we are using additional .py files, enable their reloading without restarting the kernel\n",
    "%load_ext autoreload\n",
    "%autoreload 2\n",
    "\n",
    "from shared.minimization_problem import MinimizationProblem, Constraint\n",
    "from shared.printout import final_printout\n",
    "from sqp.problems import create_made_up_problem_1, create_convex_in_f_problem, create_made_up_problem_3\n",
    "from sqp.base import minimize_nonlinear_problem"
   ]
  },
  {
   "cell_type": "markdown",
   "metadata": {},
   "source": [
    "# Problem 1\n",
    "Made up problem, tested solution with wolframalpha.\n",
    "\n",
    "\\begin{align*}\n",
    "\\min e^{-\\frac12(x_1^2+x_2^2)}+x_3^2 &\\text{ subject to} \\\\\n",
    "x_1 + x_2 &= \\frac12 \\\\\n",
    "x_1 + x_3^3 &= 10\n",
    "\\end{align*}"
   ]
  },
  {
   "cell_type": "code",
   "execution_count": 3,
   "metadata": {},
   "outputs": [
    {
     "name": "stdout",
     "output_type": "stream",
     "text": [
      "Initial x is :\t\t[11. 10.  9.]\n",
      "Optimal x is :\t\t[10.  -9.5  0. ]\n",
      "Approximated x is :\t[ 1.00007624e+01 -9.50076241e+00 -2.41692233e-04]\n",
      "Is close verification: \t[ True  True  True]\n",
      "\n",
      "Function value in optimal point:\t4.87233800839241e-42\n",
      "Function value in approximated point:   5.8415135678968327e-08\n",
      "Is close verification:\tTrue\n",
      "\n",
      "Gradient approximation in optimal point is:\n",
      "[-4.87233801e-41  4.62872111e-41  0.00000000e+00]\n",
      "\n",
      "Gradient approximation in approximated point is:\n",
      "[ 0.          0.         -0.00048338]\n",
      "\n",
      "Is close verification:\n",
      "[ True  True  True]\n",
      "\n",
      "Number of iterations required: 18\n"
     ]
    }
   ],
   "source": [
    "problem = create_made_up_problem_1()\n",
    "x_minimizer, iter_count = minimize_nonlinear_problem(problem)\n",
    "final_printout(problem.x0, problem.solution, x_minimizer, iter_count, problem.calc_f_at, problem.calc_gradient_at)"
   ]
  },
  {
   "cell_type": "markdown",
   "metadata": {},
   "source": [
    "# Problem 2\n",
    "Made up problem, tested solution with wolframalpha.\n",
    "\n",
    "\\begin{align*}\n",
    "\\min x_1^2+x_2^2 &\\text{ subject to} \\\\\n",
    "\\frac{x_1}{1+x_2^2} &\\leq 0 \\\\\n",
    "(x_1+x_2)^2 &= 0\n",
    "\\end{align*}"
   ]
  },
  {
   "cell_type": "code",
   "execution_count": 4,
   "metadata": {},
   "outputs": [
    {
     "name": "stdout",
     "output_type": "stream",
     "text": [
      "Initial x is :\t\tNone\n",
      "Optimal x is :\t\t[0 0]\n",
      "Approximated x is :\t[-3.01252927e-15  7.82775216e-06]\n",
      "Is close verification: \t[ True  True]\n",
      "\n",
      "Function value in optimal point:\t0\n",
      "Function value in approximated point:   6.127370382980838e-11\n",
      "Is close verification:\tTrue\n",
      "\n",
      "Gradient approximation in optimal point is:\n",
      "[0. 0.]\n",
      "\n",
      "Gradient approximation in approximated point is:\n",
      "[-6.02469463e-15  1.56555043e-05]\n",
      "\n",
      "Is close verification:\n",
      "[ True  True]\n",
      "\n",
      "Number of iterations required: 47\n"
     ]
    }
   ],
   "source": [
    "problem = create_convex_in_f_problem()\n",
    "x_minimizer, iter_count = minimize_nonlinear_problem(problem, tolerance=1e-5)\n",
    "final_printout(problem.x0, problem.solution, x_minimizer, iter_count, problem.calc_f_at, problem.calc_gradient_at)"
   ]
  },
  {
   "cell_type": "markdown",
   "metadata": {},
   "source": [
    "# Problem 3\n",
    "Made up problem, tested solution with wolframalpha.\n",
    "\n",
    "\\begin{align*}\n",
    "\\min (x_1-2)^2+(x_2-4)^4+(x_3+3.3)^6 &\\text{ subject to} \\\\\n",
    "x_2 + x_3 &= 3 \\\\\n",
    "x_1^2 &\\geq 3\n",
    "\\end{align*}"
   ]
  },
  {
   "cell_type": "code",
   "execution_count": 5,
   "metadata": {},
   "outputs": [
    {
     "name": "stdout",
     "output_type": "stream",
     "text": [
      "Initial x is :\t\t[1. 1. 1.]\n",
      "Optimal x is :\t\t[ 2.          5.24720397 -2.24720397]\n",
      "Approximated x is :\t[ 2.          5.24720397 -2.24720397]\n",
      "Is close verification: \t[ True  True  True]\n",
      "\n",
      "Function value in optimal point:\t3.781285263535309\n",
      "Function value in approximated point:   3.7812852635349747\n",
      "Is close verification:\tTrue\n",
      "\n",
      "Gradient approximation in optimal point is:\n",
      "[0.         7.7601916  7.76019162]\n",
      "\n",
      "Gradient approximation in approximated point is:\n",
      "[-1.49011612e-08  7.76019160e+00  7.76019165e+00]\n",
      "\n",
      "Is close verification:\n",
      "[ True  True  True]\n",
      "\n",
      "Number of iterations required: 3721\n"
     ]
    }
   ],
   "source": [
    "problem = create_made_up_problem_3()\n",
    "x_minimizer, iter_count = minimize_nonlinear_problem(problem)\n",
    "final_printout(problem.x0, problem.solution, x_minimizer, iter_count, problem.calc_f_at, problem.calc_gradient_at)"
   ]
  },
  {
   "cell_type": "code",
   "execution_count": null,
   "outputs": [],
   "source": [],
   "metadata": {
    "collapsed": false,
    "pycharm": {
     "name": "#%%\n"
    }
   }
  }
 ],
 "metadata": {
  "interpreter": {
   "hash": "1966315138f400f62dc1fff91c72ed91dd6df0f36082b426fd0f91ceb8258b5f"
  },
  "kernelspec": {
   "name": "pycharm-ca11867c",
   "language": "python",
   "display_name": "PyCharm (Group Project 2)"
  },
  "language_info": {
   "codemirror_mode": {
    "name": "ipython",
    "version": 3
   },
   "file_extension": ".py",
   "mimetype": "text/x-python",
   "name": "python",
   "nbconvert_exporter": "python",
   "pygments_lexer": "ipython3",
   "version": "3.9.4"
  }
 },
 "nbformat": 4,
 "nbformat_minor": 4
}