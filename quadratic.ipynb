{
 "cells": [
  {
   "cell_type": "markdown",
   "metadata": {},
   "source": [
    "# Active-set for QP method\n",
    "\n",
    "### Implemented\n",
    "- Basic active-set QP algorithm\n",
    "- Starting the QP by finding x0 with the Simplex method\n",
    "- Automatic standard form conversion (less-than inequalities to greater-than inequalities)\n",
    "- Factoring the full KKT system (using Schur method)"
   ]
  },
  {
   "cell_type": "markdown",
   "metadata": {},
   "source": [
    "<i>Group 08<br>\n",
    "Participants information in alphabetical order</i>\n",
    "<table style=\"width:100%\">\n",
    "  <\n",
    "    <th style = \"text-align: left\">#</th>\n",
    "    <th style = \"text-align: left\">Name</th>\n",
    "    <th style = \"text-align: left\">Lastname</th>\n",
    "    <th style = \"text-align: left\">Matr Number</th>\n",
    "  </tr>\n",
    "  <tr>\n",
    "    <td style = \"text-align: left\">1</td>\n",
    "    <td style = \"text-align: left\">Alexander</td>\n",
    "    <td style = \"text-align: left\">Temper</td>\n",
    "    <td style = \"text-align: left\">K11905007</td>\n",
    "  </tr>\n",
    "  <tr>\n",
    "    <td style = \"text-align: left\">2</td>\n",
    "    <td style = \"text-align: left\">Bernhard Michael</td>\n",
    "    <td style = \"text-align: left\">Voggenberger</td>\n",
    "    <td style = \"text-align: left\">K11907093</td>\n",
    "  </tr>\n",
    "  <tr>\n",
    "    <td style = \"text-align: left\">3</td>\n",
    "    <td style = \"text-align: left\">Christian</td>\n",
    "    <td style = \"text-align: left\">Ganhör</td>\n",
    "    <td style = \"text-align: left\">K11911652</td>\n",
    "  </tr>\n",
    "  <tr>\n",
    "    <td style = \"text-align: left\">4</td>\n",
    "    <td style = \"text-align: left\">Christoph</td>\n",
    "    <td style = \"text-align: left\">Koller</td>\n",
    "    <td style = \"text-align: left\">K11910272</td>\n",
    "    </tr>\n",
    "  <tr>\n",
    "    <td style = \"text-align: left\">5</td>\n",
    "    <td style = \"text-align: left\">Franziska</td>\n",
    "    <td style = \"text-align: left\">Denk</td>\n",
    "    <td style = \"text-align: left\">K11904292</td>\n",
    "  </tr>\n",
    "  <tr>\n",
    "    <td style = \"text-align: left\">6</td>\n",
    "    <td style = \"text-align: left\">Lukas</td>\n",
    "    <td style = \"text-align: left\">Gattermayr</td>\n",
    "    <td style = \"text-align: left\">K11911639</td>\n",
    "  </tr>\n",
    "  <tr>\n",
    "    <td style = \"text-align: left\">7</td>\n",
    "    <td style = \"text-align: left\">Nathanael</td>\n",
    "    <td style = \"text-align: left\">Harmetzky</td>\n",
    "    <td style = \"text-align: left\">K11916566</td>\n",
    "  </tr>\n",
    "  <tr>\n",
    "    <td style = \"text-align: left\">8</td>\n",
    "    <td style = \"text-align: left\">Raphael-Pascal</td>\n",
    "    <td style = \"text-align: left\">Endstrasser</td>\n",
    "    <td style = \"text-align: left\">K11907909</td>\n",
    "  </tr>\n",
    "  <tr>\n",
    "    <td style = \"text-align: left\">9</td>\n",
    "    <td style = \"text-align: left\">Tobias</td>\n",
    "    <td style = \"text-align: left\">Stierberger</td>\n",
    "    <td style = \"text-align: left\">K11907869</td>\n",
    "  </tr>\n",
    "  <tr>\n",
    "    <td style = \"text-align: left\">10</td>\n",
    "    <td style = \"text-align: left\">***</td>\n",
    "    <td style = \"text-align: left\">***</td>\n",
    "    <td style = \"text-align: left\">***</td>\n",
    "  </tr>\n",
    "</table>\n"
   ]
  },
  {
   "cell_type": "code",
   "execution_count": 2,
   "metadata": {},
   "outputs": [],
   "source": [
    "import numpy as np\n",
    "import scipy \n",
    "import pandas as pd\n",
    "from matplotlib import pyplot as plt\n",
    "import seaborn as sns\n",
    "from typing import Callable, Tuple\n",
    "from dataclasses import dataclass"
   ]
  },
  {
   "cell_type": "code",
   "execution_count": 4,
   "metadata": {},
   "outputs": [
    {
     "name": "stdout",
     "output_type": "stream",
     "text": [
      "The autoreload extension is already loaded. To reload it, use:\n",
      "  %reload_ext autoreload\n"
     ]
    }
   ],
   "source": [
    "# As we are using additional .py files, enable their reloading without restarting the kernel\n",
    "%load_ext autoreload\n",
    "%autoreload 2\n",
    "\n",
    "from shared.printout import final_printout\n",
    "from quadratic.base import minimize_quadratic_problem\n",
    "from quadratic.quadratic_problem import QuadraticProblem\n",
    "from quadratic.problems import create_another_example, create_example_16_4, create_exercise_example_16_1\n",
    "from shared.constraints import LinearCallable, LinearConstraint, EquationType\n",
    "\n",
    "# hide warnings about future changes in libraries\n",
    "import warnings\n",
    "warnings.simplefilter(action='ignore', category=FutureWarning)"
   ]
  },
  {
   "cell_type": "markdown",
   "metadata": {},
   "source": [
    "# Problem 1\n",
    "Taken from the book (exercise example 16.1).\n",
    "\n",
    "\\begin{align*}\n",
    "\\min 2x_1 + 3x_2 + 4x_1^2 + 2x_1x_2 + x_2^2 &\\text{ subject to} \\\\\n",
    "x_1 - x_2 &\\geq 0 \\\\\n",
    "x_1 + x_2 &\\leq 4 \\\\\n",
    "x_1 &\\leq 3\n",
    "\\end{align*}"
   ]
  },
  {
   "cell_type": "code",
   "execution_count": 2,
   "metadata": {},
   "outputs": [
    {
     "name": "stdout",
     "output_type": "stream",
     "text": [
      "Initial x is :\t\tNone\n",
      "Optimal x is :\t\t[ 0.16666667 -1.66666667]\n",
      "Approximated x is :\t[ 0.16666667 -1.66666667]\n",
      "Is close verification: \t[ True  True]\n",
      "\n",
      "Function value in optimal point:\t-2.3333333333333335\n",
      "Function value in approximated point:   -2.3333333333333335\n",
      "Is close verification:\tTrue\n",
      "\n",
      "Gradient approximation in optimal point is:\n",
      "[0. 0.]\n",
      "\n",
      "Gradient approximation in approximated point is:\n",
      "[0.00000000e+00 1.49011612e-08]\n",
      "\n",
      "Is close verification:\n",
      "[ True  True]\n",
      "\n",
      "Number of iterations required: 2\n"
     ]
    }
   ],
   "source": [
    "problem = create_exercise_example_16_1()\n",
    "x_minimizer, iter_count = minimize_quadratic_problem(problem)\n",
    "final_printout(problem.x0, problem.solution, x_minimizer, iter_count, problem.calc_f_at, problem.calc_gradient_at)"
   ]
  },
  {
   "cell_type": "markdown",
   "metadata": {},
   "source": [
    "# Problem 2\n",
    "Taken from the book (non-exercise example 16.4).\n",
    "\n",
    "\\begin{align*}\n",
    "\\min (x_1-1)^2 + (x_2-2.5)^2 &\\text{ subject to} \\\\\n",
    "x_1 - 2x_2 + 2 &\\geq 0 \\\\\n",
    "-x_1 - x_2 + 6 &\\geq 0 \\\\\n",
    "-x_1 + 2x_2 + 2 &\\geq 0 \\\\\n",
    "x_1 &\\geq 0 \\\\\n",
    "x_2 &\\geq 0\n",
    "\\end{align*}"
   ]
  },
  {
   "cell_type": "code",
   "execution_count": 5,
   "metadata": {
    "scrolled": true
   },
   "outputs": [
    {
     "name": "stdout",
     "output_type": "stream",
     "text": [
      "Initial x is :\t\tNone\n",
      "Optimal x is :\t\t[1.4 1.7]\n",
      "Approximated x is :\t[1.4 1.7]\n",
      "Is close verification: \t[ True  True]\n",
      "\n",
      "Function value in optimal point:\t-6.450000000000001\n",
      "Function value in approximated point:   -6.450000000000001\n",
      "Is close verification:\tTrue\n",
      "\n",
      "Gradient approximation in optimal point is:\n",
      "[ 0.80000001 -1.59999999]\n",
      "\n",
      "Gradient approximation in approximated point is:\n",
      "[ 0.80000001 -1.59999999]\n",
      "\n",
      "Is close verification:\n",
      "[ True  True]\n",
      "\n",
      "Number of iterations required: 3\n"
     ]
    }
   ],
   "source": [
    "problem = create_example_16_4()\n",
    "x_minimizer, iter_count = minimize_quadratic_problem(problem)\n",
    "final_printout(problem.x0, problem.solution, x_minimizer, iter_count, problem.calc_f_at, problem.calc_gradient_at)"
   ]
  },
  {
   "cell_type": "markdown",
   "metadata": {},
   "source": [
    "# Problem 3\n",
    "Taken from http://lendek.net/teaching/OPT/qp.pdf (example 1.4)\n",
    "\n",
    "\\begin{align*}\n",
    "\\min x_1^2 + x_2^2 - 4x_1 - 4x_2 &\\text{ subject to} \\\\\n",
    "x_1 + x_2 &\\leq 2 \\\\\n",
    "x_1 - 2x_2 + 6 &\\leq 2 \\\\\n",
    "-x_1 - x_2 &\\leq 1 \\\\\n",
    "-2x_1 + x_2 &\\leq 2 \\\\\n",
    "\\end{align*}"
   ]
  },
  {
   "cell_type": "code",
   "execution_count": 6,
   "metadata": {},
   "outputs": [
    {
     "name": "stdout",
     "output_type": "stream",
     "text": [
      "Initial x is :\t\tNone\n",
      "Optimal x is :\t\t[1. 1.]\n",
      "Approximated x is :\t[1. 1.]\n",
      "Is close verification: \t[ True  True]\n",
      "\n",
      "Function value in optimal point:\t-6.0\n",
      "Function value in approximated point:   -6.0\n",
      "Is close verification:\tTrue\n",
      "\n",
      "Gradient approximation in optimal point is:\n",
      "[-2. -2.]\n",
      "\n",
      "Gradient approximation in approximated point is:\n",
      "[-2.00000003 -2.00000003]\n",
      "\n",
      "Is close verification:\n",
      "[ True  True]\n",
      "\n",
      "Number of iterations required: 3\n"
     ]
    }
   ],
   "source": [
    "problem = create_another_example()\n",
    "x_minimizer, iter_count = minimize_quadratic_problem(problem)\n",
    "final_printout(problem.x0, problem.solution, x_minimizer, iter_count, problem.calc_f_at, problem.calc_gradient_at)"
   ]
  }
 ],
 "metadata": {
  "interpreter": {
   "hash": "1966315138f400f62dc1fff91c72ed91dd6df0f36082b426fd0f91ceb8258b5f"
  },
  "kernelspec": {
   "display_name": "Python 3",
   "language": "python",
   "name": "python3"
  },
  "language_info": {
   "codemirror_mode": {
    "name": "ipython",
    "version": 3
   },
   "file_extension": ".py",
   "mimetype": "text/x-python",
   "name": "python",
   "nbconvert_exporter": "python",
   "pygments_lexer": "ipython3",
   "version": "3.9.4"
  }
 },
 "nbformat": 4,
 "nbformat_minor": 4
}
