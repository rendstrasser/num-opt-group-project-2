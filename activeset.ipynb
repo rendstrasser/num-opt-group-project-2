{
 "cells": [
  {
   "cell_type": "markdown",
   "metadata": {},
   "source": [
    "# SQP method"
   ]
  },
  {
   "cell_type": "markdown",
   "metadata": {},
   "source": [
    "<i>Group 08<br>\n",
    "Participants information in alphabetical order</i>\n",
    "<table style=\"width:100%\">\n",
    "  <\n",
    "    <th style = \"text-align: left\">#</th>\n",
    "    <th style = \"text-align: left\">Name</th>\n",
    "    <th style = \"text-align: left\">Lastname</th>\n",
    "    <th style = \"text-align: left\">Matr Number</th>\n",
    "  </tr>\n",
    "  <tr>\n",
    "    <td style = \"text-align: left\">1</td>\n",
    "    <td style = \"text-align: left\">Alexander</td>\n",
    "    <td style = \"text-align: left\">Temper</td>\n",
    "    <td style = \"text-align: left\">K11905007</td>\n",
    "  </tr>\n",
    "  <tr>\n",
    "    <td style = \"text-align: left\">2</td>\n",
    "    <td style = \"text-align: left\">Bernhard Michael</td>\n",
    "    <td style = \"text-align: left\">Voggenberger</td>\n",
    "    <td style = \"text-align: left\">K11907093</td>\n",
    "  </tr>\n",
    "  <tr>\n",
    "    <td style = \"text-align: left\">3</td>\n",
    "    <td style = \"text-align: left\">Christian</td>\n",
    "    <td style = \"text-align: left\">Ganhör</td>\n",
    "    <td style = \"text-align: left\">K11911652</td>\n",
    "  </tr>\n",
    "  <tr>\n",
    "    <td style = \"text-align: left\">4</td>\n",
    "    <td style = \"text-align: left\">Christoph</td>\n",
    "    <td style = \"text-align: left\">Koller</td>\n",
    "    <td style = \"text-align: left\">K11910272</td>\n",
    "    </tr>\n",
    "  <tr>\n",
    "    <td style = \"text-align: left\">5</td>\n",
    "    <td style = \"text-align: left\">Franziska</td>\n",
    "    <td style = \"text-align: left\">Denk</td>\n",
    "    <td style = \"text-align: left\">K11904292</td>\n",
    "  </tr>\n",
    "  <tr>\n",
    "    <td style = \"text-align: left\">6</td>\n",
    "    <td style = \"text-align: left\">Lukas</td>\n",
    "    <td style = \"text-align: left\">Gattermayr</td>\n",
    "    <td style = \"text-align: left\">K11911639</td>\n",
    "  </tr>\n",
    "  <tr>\n",
    "    <td style = \"text-align: left\">7</td>\n",
    "    <td style = \"text-align: left\">Nathanael</td>\n",
    "    <td style = \"text-align: left\">Harmetzky</td>\n",
    "    <td style = \"text-align: left\">K11916566</td>\n",
    "  </tr>\n",
    "  <tr>\n",
    "    <td style = \"text-align: left\">8</td>\n",
    "    <td style = \"text-align: left\">Raphael-Pascal</td>\n",
    "    <td style = \"text-align: left\">Endstrasser</td>\n",
    "    <td style = \"text-align: left\">K11907909</td>\n",
    "  </tr>\n",
    "  <tr>\n",
    "    <td style = \"text-align: left\">9</td>\n",
    "    <td style = \"text-align: left\">Tobias</td>\n",
    "    <td style = \"text-align: left\">Stierberger</td>\n",
    "    <td style = \"text-align: left\">K11907869</td>\n",
    "  </tr>\n",
    "  <tr>\n",
    "    <td style = \"text-align: left\">10</td>\n",
    "    <td style = \"text-align: left\">***</td>\n",
    "    <td style = \"text-align: left\">***</td>\n",
    "    <td style = \"text-align: left\">***</td>\n",
    "  </tr>\n",
    "</table>\n"
   ]
  },
  {
   "cell_type": "code",
   "execution_count": 2,
   "metadata": {},
   "outputs": [],
   "source": [
    "import numpy as np\n",
    "import scipy \n",
    "import pandas as pd\n",
    "from matplotlib import pyplot as plt\n",
    "import seaborn as sns\n",
    "from typing import Callable, Tuple\n",
    "from dataclasses import dataclass"
   ]
  },
  {
   "cell_type": "code",
   "execution_count": 3,
   "metadata": {},
   "outputs": [],
   "source": [
    "# As we are using additional .py files, enable their reloading without restarting the kernel\n",
    "%load_ext autoreload\n",
    "%autoreload 2\n",
    "\n",
    "#from src.classes import MinimizationProblemSettings, MinimizationProblem"
   ]
  },
  {
   "cell_type": "markdown",
   "metadata": {},
   "source": [
    "# Implementation"
   ]
  },
  {
   "cell_type": "code",
   "execution_count": null,
   "metadata": {},
   "outputs": [],
   "source": []
  }
 ],
 "metadata": {
  "interpreter": {
   "hash": "1966315138f400f62dc1fff91c72ed91dd6df0f36082b426fd0f91ceb8258b5f"
  },
  "kernelspec": {
   "display_name": "Python 3",
   "language": "python",
   "name": "python3"
  },
  "language_info": {
   "codemirror_mode": {
    "name": "ipython",
    "version": 3
   },
   "file_extension": ".py",
   "mimetype": "text/x-python",
   "name": "python",
   "nbconvert_exporter": "python",
   "pygments_lexer": "ipython3",
   "version": "3.8.5"
  }
 },
 "nbformat": 4,
 "nbformat_minor": 4
}
